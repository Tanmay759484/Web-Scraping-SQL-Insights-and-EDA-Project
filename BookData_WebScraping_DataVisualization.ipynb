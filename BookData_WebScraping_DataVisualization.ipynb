{
 "cells": [
  {
   "cell_type": "markdown",
   "id": "ff0cec5b-0a7a-4af6-87a9-fd9ca937520e",
   "metadata": {},
   "source": [
    "## Assignment: Web Scraping, SQL Insights, and Data Visualization"
   ]
  },
  {
   "cell_type": "markdown",
   "id": "40358863-30f5-443e-bc59-80202c182e63",
   "metadata": {},
   "source": [
    "### Part 1: Web Scraping (Using Python)"
   ]
  },
  {
   "cell_type": "markdown",
   "id": "f0beea66-b852-4ef5-a90e-835af236cb4f",
   "metadata": {},
   "source": [
    "#### Importing necessary libraries"
   ]
  },
  {
   "cell_type": "code",
   "execution_count": 1,
   "id": "dc55051b-b73f-4f76-9eb0-7a3c9b397203",
   "metadata": {},
   "outputs": [],
   "source": [
    "import requests\n",
    "from bs4 import BeautifulSoup\n",
    "import re\n",
    "import pandas as pd"
   ]
  },
  {
   "cell_type": "code",
   "execution_count": 2,
   "id": "8ec48a60-5955-4563-89fa-5627efc17b81",
   "metadata": {},
   "outputs": [
    {
     "name": "stdout",
     "output_type": "stream",
     "text": [
      "page-1.html scraping done\n",
      "page-2.html scraping done\n",
      "page-3.html scraping done\n",
      "page-4.html scraping done\n",
      "page-5.html scraping done\n",
      "page-6.html scraping done\n",
      "page-7.html scraping done\n",
      "page-8.html scraping done\n",
      "page-9.html scraping done\n",
      "page-10.html scraping done\n",
      "page-11.html scraping done\n",
      "page-12.html scraping done\n",
      "page-13.html scraping done\n",
      "page-14.html scraping done\n",
      "page-15.html scraping done\n",
      "page-16.html scraping done\n",
      "page-17.html scraping done\n",
      "page-18.html scraping done\n",
      "page-19.html scraping done\n",
      "page-20.html scraping done\n",
      "page-21.html scraping done\n",
      "page-22.html scraping done\n",
      "page-23.html scraping done\n",
      "page-24.html scraping done\n",
      "page-25.html scraping done\n",
      "page-26.html scraping done\n",
      "page-27.html scraping done\n",
      "page-28.html scraping done\n",
      "page-29.html scraping done\n",
      "page-30.html scraping done\n",
      "page-31.html scraping done\n",
      "page-32.html scraping done\n",
      "page-33.html scraping done\n",
      "page-34.html scraping done\n",
      "page-35.html scraping done\n",
      "page-36.html scraping done\n",
      "page-37.html scraping done\n",
      "page-38.html scraping done\n",
      "page-39.html scraping done\n",
      "page-40.html scraping done\n",
      "page-41.html scraping done\n",
      "page-42.html scraping done\n",
      "page-43.html scraping done\n",
      "page-44.html scraping done\n",
      "page-45.html scraping done\n",
      "page-46.html scraping done\n",
      "page-47.html scraping done\n",
      "page-48.html scraping done\n",
      "page-49.html scraping done\n",
      "page-50.html scraping done\n",
      "Data scraping complete. Data saved to 'books_scraping_data.csv'.\n"
     ]
    }
   ],
   "source": [
    "data = []\n",
    "RATING_MAP = {\n",
    "    \"One\": 1,\n",
    "    \"Two\": 2,\n",
    "    \"Three\": 3,\n",
    "    \"Four\": 4,\n",
    "    \"Five\": 5\n",
    "}\n",
    "text = requests.get('http://books.toscrape.com/')\n",
    "soup = BeautifulSoup(text.text,'html.parser')\n",
    "print(\"page-1.html scraping done\")\n",
    "def func1(soup):\n",
    "    des = \"http://books.toscrape.com/catalogue/category/books_1/\"\n",
    "    pattern = r'([a-zA-Z0-9-]+\\.html)$'\n",
    "    next = soup.find('a',string = 'next')\n",
    "    if next:\n",
    "        match = re.search(pattern, next.get('href'))\n",
    "        if match:\n",
    "            extracted_part = match.group(1)\n",
    "            print(extracted_part+\" scraping done\")\n",
    "            dd = soup.find('ol',class_ = 'row')\n",
    "            book_list = dd.find_all('li')\n",
    "            for lis in book_list:\n",
    "                title = lis.find('h3').find('a').get('title').strip()\n",
    "                rating_s = lis.find('p').get('class')[1].strip()\n",
    "                rating = RATING_MAP.get(rating_s, 0)\n",
    "                price = lis.find('p',class_ = 'price_color').text[2:].strip()\n",
    "                availability = lis.find('p',class_ = 'instock availability').text.strip()\n",
    "                data.append({\n",
    "                    'title' : title,\n",
    "                    'rating' : rating,\n",
    "                    'price' : float(price),\n",
    "                    'availability' : availability\n",
    "                })\n",
    "            text = requests.get(des + extracted_part)\n",
    "            soup = BeautifulSoup(text.text,'html.parser')\n",
    "            func1(soup)\n",
    "        else:\n",
    "            print(\"No matching pattern found.\")\n",
    "    else:\n",
    "        dd = soup.find('ol',class_ = 'row')\n",
    "        book_list = dd.find_all('li')\n",
    "        for lis in book_list:\n",
    "            title = lis.find('h3').find('a').get('title').strip()\n",
    "            rating_s = lis.find('p').get('class')[1].strip()\n",
    "            rating = RATING_MAP.get(rating_s, 0)\n",
    "            price = lis.find('p',class_ = 'price_color').text[2:].strip()\n",
    "            availability = lis.find('p',class_ = 'instock availability').text.strip()\n",
    "            data.append({\n",
    "                'title' : title,\n",
    "                'rating' : rating,\n",
    "                'price' : float(price),\n",
    "                'availability' : availability\n",
    "            })\n",
    "        \n",
    "func1(soup)\n",
    "df = pd.DataFrame(data)\n",
    "df.to_csv(\"books_scraping_data.csv\",index=False)\n",
    "print(\"Data scraping complete. Data saved to 'books_scraping_data.csv'.\")      "
   ]
  },
  {
   "cell_type": "markdown",
   "id": "101676be-b131-4a15-acad-2de8e45c7903",
   "metadata": {},
   "source": [
    "### Part 2: SQL Insights"
   ]
  },
  {
   "cell_type": "code",
   "execution_count": 2,
   "id": "06afce23-0233-470c-9349-1a5f471ead02",
   "metadata": {},
   "outputs": [],
   "source": [
    "import pandas as pd\n",
    "from sqlalchemy import create_engine\n",
    "import urllib.parse"
   ]
  },
  {
   "cell_type": "code",
   "execution_count": 4,
   "id": "284f7ee4-56bf-40d5-85ff-e5d75a54597e",
   "metadata": {},
   "outputs": [
    {
     "name": "stdout",
     "output_type": "stream",
     "text": [
      "Data successfully loaded into MySQL table 'books'\n"
     ]
    }
   ],
   "source": [
    "# Encode password for URL if it contains special characters like '@'\n",
    "password = urllib.parse.quote_plus('Root@T1344')  # Make sure this matches your real password\n",
    "\n",
    "# MySQL connection details\n",
    "db_user = 'root'\n",
    "db_host = 'localhost'\n",
    "db_port = 3306\n",
    "db_name = 'bookstore'\n",
    "\n",
    "# Read CSV\n",
    "df = pd.read_csv('books_scraping_data.csv')\n",
    "\n",
    "# Create SQLAlchemy engine\n",
    "engine = create_engine(f\"mysql+pymysql://{db_user}:{password}@{db_host}:{db_port}/{db_name}\")\n",
    "\n",
    "# Push DataFrame to MySQL\n",
    "df.to_sql(name='books', con=engine, if_exists='replace', index=False)\n",
    "\n",
    "print(\"Data successfully loaded into MySQL table 'books'\")\n"
   ]
  },
  {
   "cell_type": "markdown",
   "id": "7d6c9ffa-b76d-49c0-a35e-11db7e21b4fd",
   "metadata": {},
   "source": [
    "### Part 3: Exploratory Data Analysis (EDA) and Data Visualization"
   ]
  },
  {
   "cell_type": "code",
   "execution_count": 3,
   "id": "0129e3d4-e567-4263-b92b-2f0610a7b282",
   "metadata": {},
   "outputs": [],
   "source": [
    "import pandas as pd\n",
    "import matplotlib.pyplot as plt"
   ]
  },
  {
   "cell_type": "code",
   "execution_count": 6,
   "id": "c2e85ad6-f187-4b44-b047-ab087aadbbd7",
   "metadata": {},
   "outputs": [
    {
     "data": {
      "text/html": [
       "<div>\n",
       "<style scoped>\n",
       "    .dataframe tbody tr th:only-of-type {\n",
       "        vertical-align: middle;\n",
       "    }\n",
       "\n",
       "    .dataframe tbody tr th {\n",
       "        vertical-align: top;\n",
       "    }\n",
       "\n",
       "    .dataframe thead th {\n",
       "        text-align: right;\n",
       "    }\n",
       "</style>\n",
       "<table border=\"1\" class=\"dataframe\">\n",
       "  <thead>\n",
       "    <tr style=\"text-align: right;\">\n",
       "      <th></th>\n",
       "      <th>title</th>\n",
       "      <th>rating</th>\n",
       "      <th>price</th>\n",
       "      <th>availability</th>\n",
       "    </tr>\n",
       "  </thead>\n",
       "  <tbody>\n",
       "    <tr>\n",
       "      <th>0</th>\n",
       "      <td>A Light in the Attic</td>\n",
       "      <td>3</td>\n",
       "      <td>51.77</td>\n",
       "      <td>In stock</td>\n",
       "    </tr>\n",
       "    <tr>\n",
       "      <th>1</th>\n",
       "      <td>Tipping the Velvet</td>\n",
       "      <td>1</td>\n",
       "      <td>53.74</td>\n",
       "      <td>In stock</td>\n",
       "    </tr>\n",
       "    <tr>\n",
       "      <th>2</th>\n",
       "      <td>Soumission</td>\n",
       "      <td>1</td>\n",
       "      <td>50.10</td>\n",
       "      <td>In stock</td>\n",
       "    </tr>\n",
       "    <tr>\n",
       "      <th>3</th>\n",
       "      <td>Sharp Objects</td>\n",
       "      <td>4</td>\n",
       "      <td>47.82</td>\n",
       "      <td>In stock</td>\n",
       "    </tr>\n",
       "    <tr>\n",
       "      <th>4</th>\n",
       "      <td>Sapiens: A Brief History of Humankind</td>\n",
       "      <td>5</td>\n",
       "      <td>54.23</td>\n",
       "      <td>In stock</td>\n",
       "    </tr>\n",
       "  </tbody>\n",
       "</table>\n",
       "</div>"
      ],
      "text/plain": [
       "                                   title  rating  price availability\n",
       "0                   A Light in the Attic       3  51.77     In stock\n",
       "1                     Tipping the Velvet       1  53.74     In stock\n",
       "2                             Soumission       1  50.10     In stock\n",
       "3                          Sharp Objects       4  47.82     In stock\n",
       "4  Sapiens: A Brief History of Humankind       5  54.23     In stock"
      ]
     },
     "execution_count": 6,
     "metadata": {},
     "output_type": "execute_result"
    }
   ],
   "source": [
    "df =  pd.read_csv('books_scraping_data.csv') #Loading data into csv\n",
    "df.head()"
   ]
  },
  {
   "cell_type": "code",
   "execution_count": 7,
   "id": "5b062f64-c59d-4204-bf41-f5a76eca6fc4",
   "metadata": {},
   "outputs": [
    {
     "name": "stdout",
     "output_type": "stream",
     "text": [
      "Misiing Values in each Column\n",
      "title           0\n",
      "rating          0\n",
      "price           0\n",
      "availability    0\n",
      "dtype: int64\n",
      "Number of Books : 1000\n",
      "Average price of Books : 35.07\n",
      "\n"
     ]
    }
   ],
   "source": [
    "print('Misiing Values in each Column')\n",
    "print(df.isnull().sum()) # Finding Missing Values\n",
    "# Details of Books\n",
    "nbooks = len(df)\n",
    "avgp = sum(df['price'])/nbooks\n",
    "print(f'Number of Books : {nbooks}') # Printing Number of Books\n",
    "print(f'Average price of Books : {avgp:.2f}\\n') # Printing Average Price"
   ]
  },
  {
   "cell_type": "code",
   "execution_count": 8,
   "id": "4968d1f1-b3d8-4db5-b55b-8920f41a7857",
   "metadata": {},
   "outputs": [
    {
     "data": {
      "image/png": "[encoded data removed]",
      "text/plain": [
       "<Figure size 600x300 with 1 Axes>"
      ]
     },
     "metadata": {},
     "output_type": "display_data"
    }
   ],
   "source": [
    "# Bar chart of the number of books for each rating (1 to 5 stars).\n",
    "rating = df['rating'].value_counts().sort_index()\n",
    "plt.figure(figsize=(6,3))\n",
    "plt.bar(rating.index, rating.values)\n",
    "plt.xlabel('Rating')\n",
    "plt.ylabel('No of Books')\n",
    "plt.title('Number of Books for Each Rating')\n",
    "plt.show()"
   ]
  },
  {
   "cell_type": "code",
   "execution_count": 9,
   "id": "5be642bb-f88f-4450-99c3-eefd7a63211c",
   "metadata": {},
   "outputs": [
    {
     "data": {
      "image/png": "[encoded data removed]",
      "text/plain": [
       "<Figure size 600x400 with 1 Axes>"
      ]
     },
     "metadata": {},
     "output_type": "display_data"
    }
   ],
   "source": [
    "# Histogram showing the distribution of book prices.\n",
    "plt.figure(figsize=(6,4))\n",
    "plt.hist(df['price'],bins=20)\n",
    "plt.xlabel('Price')\n",
    "plt.ylabel('No of Books')\n",
    "plt.title('Distribution of Book Prices')\n",
    "plt.show()"
   ]
  },
  {
   "cell_type": "code",
   "execution_count": 10,
   "id": "1274d1e9-10ad-491f-8ab4-ca0f1b799598",
   "metadata": {},
   "outputs": [
    {
     "data": {
      "image/png": "[encoded data removed]",
      "text/plain": [
       "<Figure size 300x300 with 1 Axes>"
      ]
     },
     "metadata": {},
     "output_type": "display_data"
    }
   ],
   "source": [
    "# Pie chart representing the proportion of books in stock vs. out of stock.\n",
    "plt.figure(figsize=(3,3))\n",
    "stocks = df['availability'].value_counts()\n",
    "plt.pie(stocks, labels = stocks.index, autopct= '%1.2f%%')\n",
    "plt.title('Books Stock')\n",
    "plt.show()"
   ]
  },
  {
   "cell_type": "code",
   "execution_count": 13,
   "id": "bdda8525-d0d7-445b-8602-53165ca663c8",
   "metadata": {},
   "outputs": [
    {
     "data": {
      "text/plain": [
       "Text(0, 0.5, 'Average Price')"
      ]
     },
     "execution_count": 13,
     "metadata": {},
     "output_type": "execute_result"
    },
    {
     "data": {
      "image/png": "[encoded data removed]",
      "text/plain": [
       "<Figure size 600x400 with 1 Axes>"
      ]
     },
     "metadata": {},
     "output_type": "display_data"
    }
   ],
   "source": [
    "# Any other creative visualization that helps understand the dataset.\n",
    "plt.figure(figsize=(6,4))\n",
    "avgratingprice = df.groupby('rating')['price'].mean()\n",
    "plt.bar(avgratingprice.index, avgratingprice.values)\n",
    "plt.title(\"Average price of books based on their ratings\")\n",
    "plt.xlabel('Ratings of Books')\n",
    "plt.ylabel('Average Price')"
   ]
  }
 ],
 "metadata": {
  "kernelspec": {
   "display_name": "Python 3 (ipykernel)",
   "language": "python",
   "name": "python3"
  },
  "language_info": {
   "codemirror_mode": {
    "name": "ipython",
    "version": 3
   },
   "file_extension": ".py",
   "mimetype": "text/x-python",
   "name": "python",
   "nbconvert_exporter": "python",
   "pygments_lexer": "ipython3",
   "version": "3.12.3"
  }
 },
 "nbformat": 4,
 "nbformat_minor": 5
}
